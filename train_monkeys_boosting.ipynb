{
 "cells": [
  {
   "cell_type": "code",
   "execution_count": null,
   "metadata": {},
   "outputs": [],
   "source": [
    "def evaluate_model(dataset_val, inference_config, AP_threshold):\n",
    "    print(\"\\n\\n\")\n",
    "    print(\"*\"*30, \" Evaluating model \", \"*\"*30)\n",
    "    print(\"\\n\\n\")\n",
    "\n",
    "    # Compute VOC-Style mAP @ IoU=0.5\n",
    "    # Running on 10 images. Increase for better accuracy.\n",
    "    # image_ids = np.random.choice(dataset_val.image_ids, 10)\n",
    "\n",
    "    image_ids = dataset_val.image_ids\n",
    "\n",
    "    model = get_inference_model(inference_config)\n",
    "    incorrect = []\n",
    "\n",
    "    APs = []\n",
    "    for i, image_id in enumerate(image_ids):\n",
    "        print(f\"Evaluating image {i}/{len(image_ids)}\", end='\\r')\n",
    "\n",
    "        # Load image and ground truth data\n",
    "        image, image_meta, gt_class_id, gt_bbox, gt_mask =\\\n",
    "            modellib.load_image_gt(dataset_val, inference_config,\n",
    "                                   image_id, use_mini_mask=False)\n",
    "        # molded_images = np.expand_dims(modellib.mold_image(image, inference_config), 0)\n",
    "        # Run object detection\n",
    "        results = model.detect([image], verbose=0)\n",
    "        r = results[0]\n",
    "        # Compute AP\n",
    "        AP, precisions, recalls, overlaps =\\\n",
    "            utils.compute_ap(gt_bbox, gt_class_id, gt_mask,\n",
    "                             r[\"rois\"], r[\"class_ids\"], r[\"scores\"], r['masks'], iou_threshold=IOU_THRESHOLD)\n",
    "        APs.append(AP)\n",
    "\n",
    "        if AP < AP_threshold:\n",
    "            incorrect.append(AP)\n",
    "\n",
    "\n",
    "\n",
    "    print(\"Finished evaluating\")\n",
    "    return np.mean(APs), incorrect\n"
   ]
  },
  {
   "cell_type": "code",
   "execution_count": null,
   "metadata": {},
   "outputs": [],
   "source": []
  }
 ],
 "metadata": {
  "interpreter": {
   "hash": "7643b6ca01263e07ff32623fdc69e42a4e339236c5f6bad1bd062f88f226e188"
  },
  "kernelspec": {
   "display_name": "Python 3.7.0 64-bit ('MaskRCNN': conda)",
   "name": "python3"
  },
  "language_info": {
   "codemirror_mode": {
    "name": "ipython",
    "version": 3
   },
   "file_extension": ".py",
   "mimetype": "text/x-python",
   "name": "python",
   "nbconvert_exporter": "python",
   "pygments_lexer": "ipython3",
   "version": "3.7.0"
  }
 },
 "nbformat": 4,
 "nbformat_minor": 2
}
